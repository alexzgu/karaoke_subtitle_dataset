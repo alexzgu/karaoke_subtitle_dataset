{
 "cells": [
  {
   "cell_type": "code",
   "id": "initial_id",
   "metadata": {
    "collapsed": true,
    "ExecuteTime": {
     "end_time": "2024-09-30T05:11:47.740270Z",
     "start_time": "2024-09-30T05:11:47.735367Z"
    }
   },
   "source": [
    "import unicodedata\n",
    "\n",
    "def classify_character(char):\n",
    "    category = unicodedata.category(char)\n",
    "\n",
    "    if '\\u3040' <= char <= '\\u309F':\n",
    "        return \"Japanese Hiragana\"\n",
    "    elif '\\u30A0' <= char <= '\\u30FF':\n",
    "        return \"Japanese Katakana\"\n",
    "    elif '\\u4E00' <= char <= '\\u9FFF':\n",
    "        return \"Chinese Character\"\n",
    "    elif category.startswith('L'):\n",
    "        return \"Alphabet\"\n",
    "    elif category.startswith('P'):\n",
    "        return \"Punctuation\"\n",
    "    else:\n",
    "        return \"Miscellaneous\"\n",
    "\n",
    "def classify_text(text):\n",
    "    results = {}\n",
    "    for char in text:\n",
    "        if char.isspace():\n",
    "            continue\n",
    "        classification = classify_character(char)\n",
    "        if classification not in results:\n",
    "            results[classification] = []\n",
    "        results[classification].append(char)\n",
    "    return results\n",
    "\n",
    "# Example usage\n",
    "sample_text = \"こんにちは、世界！Hello, ワールド！123\"\n",
    "classification = classify_text(sample_text)\n",
    "\n",
    "for category, chars in classification.items():\n",
    "    print(f\"{category}: {''.join(chars)}\")"
   ],
   "outputs": [
    {
     "name": "stdout",
     "output_type": "stream",
     "text": [
      "Japanese Hiragana: こんにちは\n",
      "Punctuation: 、！,！\n",
      "Chinese Character: 世界\n",
      "Miscellaneous: Hello123\n",
      "Japanese Katakana: ワールド\n"
     ]
    }
   ],
   "execution_count": 1
  },
  {
   "metadata": {
    "ExecuteTime": {
     "end_time": "2024-09-30T05:37:23.718427Z",
     "start_time": "2024-09-30T05:37:23.437195Z"
    }
   },
   "cell_type": "code",
   "source": [
    "import os\n",
    "import csv\n",
    "import unicodedata\n",
    "from collections import defaultdict\n",
    "\n",
    "def classify_character(char):\n",
    "    if '\\u3040' <= char <= '\\u309F':\n",
    "        return \"Japanese Hiragana\"\n",
    "    elif '\\u30A0' <= char <= '\\u30FF':\n",
    "        return \"Japanese Katakana\"\n",
    "    elif '\\u4E00' <= char <= '\\u9FFF':\n",
    "        return \"Chinese Character\"\n",
    "    elif char.isascii() and char.isalpha():\n",
    "        return \"English Alphabet\"\n",
    "    elif unicodedata.category(char).startswith('P'):\n",
    "        return \"Punctuation\"\n",
    "    else:\n",
    "        return \"Miscellaneous\"\n",
    "\n",
    "def process_files(input_dir, output_dir):\n",
    "    # Create output directory if it doesn't exist\n",
    "    os.makedirs(output_dir, exist_ok=True)\n",
    "\n",
    "    # Initialize character buckets\n",
    "    buckets = {\n",
    "        \"Japanese Hiragana\": defaultdict(set),\n",
    "        \"Japanese Katakana\": defaultdict(set),\n",
    "        \"Chinese Character\": defaultdict(set),\n",
    "        \"English Alphabet\": defaultdict(set),\n",
    "        \"Punctuation\": defaultdict(set),\n",
    "        \"Miscellaneous\": defaultdict(set)\n",
    "    }\n",
    "\n",
    "    # Process all CSV files in the input directory\n",
    "    for filename in os.listdir(input_dir):\n",
    "        if filename.endswith('.csv'):\n",
    "            file_number = int(filename.split('.')[0])  # Convert to integer\n",
    "            with open(os.path.join(input_dir, filename), 'r', encoding='utf-8') as file:\n",
    "                csv_reader = csv.DictReader(file)\n",
    "                for row in csv_reader:\n",
    "                    token = row.get('token', '')\n",
    "                    for char in token:\n",
    "                        category = classify_character(char)\n",
    "                        buckets[category][char].add(file_number)\n",
    "\n",
    "    # Save results\n",
    "    for category, char_dict in buckets.items():\n",
    "        output_file = os.path.join(output_dir, f\"{category.lower().replace(' ', '_')}.csv\")\n",
    "        with open(output_file, 'w', newline='', encoding='utf-8') as file:\n",
    "            csv_writer = csv.writer(file)\n",
    "            csv_writer.writerow(['Character', 'File Numbers'])\n",
    "            for char, file_numbers in char_dict.items():\n",
    "                # Convert set to sorted list of strings\n",
    "                sorted_numbers = [str(num) for num in sorted(file_numbers)]\n",
    "                csv_writer.writerow([char, '{' + ', '.join(sorted_numbers) + '}'])\n",
    "\n",
    "    print(\"Processing complete. Results saved in the 'character_classification_results' directory.\")\n",
    "\n",
    "# Main execution\n",
    "if __name__ == \"__main__\":\n",
    "    input_directory = '../data/stage_4_processed'\n",
    "    output_directory = 'character_classification_results'\n",
    "    process_files(input_directory, output_directory)"
   ],
   "id": "5cb1a221c621cc6a",
   "outputs": [
    {
     "name": "stdout",
     "output_type": "stream",
     "text": [
      "Processing complete. Results saved in the 'character_classification_results' directory.\n"
     ]
    }
   ],
   "execution_count": 7
  },
  {
   "metadata": {},
   "cell_type": "code",
   "outputs": [],
   "execution_count": null,
   "source": "",
   "id": "1181e098f21a09b9"
  }
 ],
 "metadata": {
  "kernelspec": {
   "display_name": "Python 3",
   "language": "python",
   "name": "python3"
  },
  "language_info": {
   "codemirror_mode": {
    "name": "ipython",
    "version": 2
   },
   "file_extension": ".py",
   "mimetype": "text/x-python",
   "name": "python",
   "nbconvert_exporter": "python",
   "pygments_lexer": "ipython2",
   "version": "2.7.6"
  }
 },
 "nbformat": 4,
 "nbformat_minor": 5
}
